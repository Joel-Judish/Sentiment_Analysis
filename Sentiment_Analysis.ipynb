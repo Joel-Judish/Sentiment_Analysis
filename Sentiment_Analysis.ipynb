{
  "nbformat": 4,
  "nbformat_minor": 0,
  "metadata": {
    "colab": {
      "provenance": []
    },
    "kernelspec": {
      "name": "python3",
      "display_name": "Python 3"
    },
    "language_info": {
      "name": "python"
    }
  },
  "cells": [
    {
      "cell_type": "code",
      "source": [
        "!pip install nltk\n",
        "\n",
        "\n",
        "import nltk\n",
        "from nltk.sentiment.vader import SentimentIntensityAnalyzer\n",
        "\n",
        "nltk.download('vader_lexicon')\n",
        "\n",
        "sia=SentimentIntensityAnalyzer()\n",
        "\n",
        "def analyze_sentiment(text):\n",
        "  sentiment=sia.polarity_scores(text)\n",
        "  print(f\"Input Text: {text}\")\n",
        "  print(f\"Sentiment Scores: {sentiment}\")\n",
        "\n",
        "  if sentiment['compound']>=0.05:\n",
        "    print(\"Overall Sentiment: Positive \")\n",
        "  elif sentiment['compound']<=-0.05:\n",
        "    print(\"Overall Sentiment: Negative\")\n",
        "  else:\n",
        "    print(\"Overall Sentiment: Neutral\")\n",
        "\n",
        "text=input(\"Enter a sentence to analyze sentiment: \")\n",
        "analyze_sentiment(text)\n",
        "\n"
      ],
      "metadata": {
        "colab": {
          "base_uri": "https://localhost:8080/"
        },
        "id": "IURcDbNjupDs",
        "outputId": "12c26d7e-7f53-454b-8d23-06abd762f388",
        "collapsed": true
      },
      "execution_count": null,
      "outputs": [
        {
          "output_type": "stream",
          "name": "stdout",
          "text": [
            "Requirement already satisfied: nltk in /usr/local/lib/python3.10/dist-packages (3.8.1)\n",
            "Requirement already satisfied: click in /usr/local/lib/python3.10/dist-packages (from nltk) (8.1.7)\n",
            "Requirement already satisfied: joblib in /usr/local/lib/python3.10/dist-packages (from nltk) (1.4.2)\n",
            "Requirement already satisfied: regex>=2021.8.3 in /usr/local/lib/python3.10/dist-packages (from nltk) (2024.9.11)\n",
            "Requirement already satisfied: tqdm in /usr/local/lib/python3.10/dist-packages (from nltk) (4.66.6)\n"
          ]
        },
        {
          "output_type": "stream",
          "name": "stderr",
          "text": [
            "[nltk_data] Downloading package vader_lexicon to /root/nltk_data...\n",
            "[nltk_data]   Package vader_lexicon is already up-to-date!\n"
          ]
        },
        {
          "output_type": "stream",
          "name": "stdout",
          "text": [
            "Enter a sentence to analyze sentiment: There is a bad weather outside\n",
            "Input Text: There is a bad weather outside\n",
            "Sentiment Scores: {'neg': 0.467, 'neu': 0.533, 'pos': 0.0, 'compound': -0.5423}\n",
            "Overall Sentiment: Negative\n"
          ]
        }
      ]
    }
  ]
}